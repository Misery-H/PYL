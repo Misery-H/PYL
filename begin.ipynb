{
 "cells": [
  {
   "cell_type": "markdown",
   "id": "0b82ffbd",
   "metadata": {},
   "source": [
    "### 整型"
   ]
  },
  {
   "cell_type": "markdown",
   "id": "469e5a8a",
   "metadata": {},
   "source": [
    "- 整型是指一切整数，可以直接以二进制表示，ex.（1100）b=（12）d\n",
    "- 整型运算没有误差"
   ]
  },
  {
   "cell_type": "code",
   "execution_count": 4,
   "id": "bf0e9d55",
   "metadata": {},
   "outputs": [
    {
     "data": {
      "text/plain": [
       "12"
      ]
     },
     "execution_count": 4,
     "metadata": {},
     "output_type": "execute_result"
    }
   ],
   "source": [
    "#定义一个整型\n",
    "a=12\n",
    "a"
   ]
  },
  {
   "cell_type": "code",
   "execution_count": 5,
   "id": "14f215a1",
   "metadata": {},
   "outputs": [
    {
     "data": {
      "text/plain": [
       "'0b1100'"
      ]
     },
     "execution_count": 5,
     "metadata": {},
     "output_type": "execute_result"
    }
   ],
   "source": [
    "#二进制\n",
    "bin(a)"
   ]
  },
  {
   "cell_type": "code",
   "execution_count": 6,
   "id": "2314f131",
   "metadata": {},
   "outputs": [
    {
     "data": {
      "text/plain": [
       "'0xc'"
      ]
     },
     "execution_count": 6,
     "metadata": {},
     "output_type": "execute_result"
    }
   ],
   "source": [
    "#十六进制\n",
    "hex(a)"
   ]
  },
  {
   "cell_type": "code",
   "execution_count": 7,
   "id": "be7ac340",
   "metadata": {},
   "outputs": [
    {
     "data": {
      "text/plain": [
       "'0o14'"
      ]
     },
     "execution_count": 7,
     "metadata": {},
     "output_type": "execute_result"
    }
   ],
   "source": [
    "#八进制\n",
    "oct(a)"
   ]
  },
  {
   "cell_type": "code",
   "execution_count": 8,
   "id": "fbdae4a9",
   "metadata": {},
   "outputs": [
    {
     "name": "stdout",
     "output_type": "stream",
     "text": [
      "20\n",
      "4\n",
      "1.5\n",
      "1\n",
      "4\n",
      "96\n",
      "429981696\n"
     ]
    }
   ],
   "source": [
    "#基本运算\n",
    "#依次是 加法，减法，除法，整除，取余，乘法，乘方\n",
    "print(12+8)\n",
    "print(12-8)\n",
    "print(12/8)\n",
    "print(12//8)\n",
    "print(12%8)\n",
    "print(12*8)\n",
    "print(12**8)"
   ]
  },
  {
   "cell_type": "code",
   "execution_count": 9,
   "id": "6af19cbc",
   "metadata": {},
   "outputs": [
    {
     "name": "stdout",
     "output_type": "stream",
     "text": [
      "3.4641016151377544\n",
      "0.8438539587324921\n"
     ]
    }
   ],
   "source": [
    "#math库中有更多运算,ex.开方，余弦\n",
    "import math\n",
    "print(math.sqrt(12))\n",
    "print(math.cos(12))"
   ]
  },
  {
   "cell_type": "markdown",
   "id": "94e1bee5",
   "metadata": {},
   "source": [
    "## 浮点数\n",
    "- 浮点数即带有小数点的数，运算会出现误差，这是计算机的物理性质决定的\n",
    "- 典型例子，0.1+0.2不等于0.3"
   ]
  },
  {
   "cell_type": "code",
   "execution_count": 10,
   "id": "a7957283",
   "metadata": {},
   "outputs": [
    {
     "data": {
      "text/plain": [
       "0.30000000000000004"
      ]
     },
     "execution_count": 10,
     "metadata": {},
     "output_type": "execute_result"
    }
   ],
   "source": [
    "0.1+0.2"
   ]
  },
  {
   "cell_type": "markdown",
   "id": "35778ea7",
   "metadata": {},
   "source": [
    "- 因此比较浮点数时，可以用以下方式"
   ]
  },
  {
   "cell_type": "code",
   "execution_count": 20,
   "id": "2787f3e7",
   "metadata": {},
   "outputs": [],
   "source": [
    "def equal(a,b):\n",
    "    if isinstance(a,float) or isinstance(b,float):\n",
    "        if abs(a-b)<1e-5:\n",
    "            return True\n",
    "        return False\n",
    "    return a==b"
   ]
  },
  {
   "cell_type": "markdown",
   "id": "10f23aff",
   "metadata": {},
   "source": [
    "equal函数\n",
    "- 首先确定a，b中有一个是浮点数\n",
    "- 如果a-b的绝对值小于一个非常小的值1e-5，则认为他们相等\n",
    "- 如果ab都不是浮点数则返回a==b"
   ]
  },
  {
   "cell_type": "code",
   "execution_count": 22,
   "id": "6b10e560",
   "metadata": {},
   "outputs": [
    {
     "name": "stdout",
     "output_type": "stream",
     "text": [
      "True\n",
      "True\n",
      "False\n"
     ]
    }
   ],
   "source": [
    "print(equal(0.1+0.2,0.3))\n",
    "print(equal(1+2,3))\n",
    "print(equal(1.2,2.1))"
   ]
  },
  {
   "cell_type": "markdown",
   "id": "a0f58d82",
   "metadata": {},
   "source": [
    "## 字符串\n",
    "- 字符串可以直接用+来拼接\n",
    "- 字符串可以格式化输出"
   ]
  },
  {
   "cell_type": "code",
   "execution_count": 23,
   "id": "4bd88f2d",
   "metadata": {},
   "outputs": [],
   "source": [
    "name=\"张三\"\n",
    "job=\"法外狂徒\""
   ]
  },
  {
   "cell_type": "code",
   "execution_count": 24,
   "id": "842ad33b",
   "metadata": {},
   "outputs": [
    {
     "name": "stdout",
     "output_type": "stream",
     "text": [
      "张三是法外狂徒\n",
      "张三是法外狂徒\n",
      "张三是法外狂徒\n"
     ]
    }
   ],
   "source": [
    "print(name+\"是\"+job)\n",
    "print(f\"{name}是{job}\")\n",
    "print(\"{}是{}\".format(name,job))"
   ]
  },
  {
   "cell_type": "code",
   "execution_count": 25,
   "id": "54e09a2b",
   "metadata": {},
   "outputs": [
    {
     "name": "stdout",
     "output_type": "stream",
     "text": [
      "{name}是{job}\n"
     ]
    }
   ],
   "source": [
    "print(r\"{name}是{job}\")"
   ]
  },
  {
   "cell_type": "code",
   "execution_count": 27,
   "id": "fe569328",
   "metadata": {},
   "outputs": [
    {
     "data": {
      "text/plain": [
       "'三张'"
      ]
     },
     "execution_count": 27,
     "metadata": {},
     "output_type": "execute_result"
    }
   ],
   "source": [
    "name[::-1]"
   ]
  }
 ],
 "metadata": {
  "kernelspec": {
   "display_name": "pyLearn",
   "language": "python",
   "name": "pylearn"
  },
  "language_info": {
   "codemirror_mode": {
    "name": "ipython",
    "version": 3
   },
   "file_extension": ".py",
   "mimetype": "text/x-python",
   "name": "python",
   "nbconvert_exporter": "python",
   "pygments_lexer": "ipython3",
   "version": "3.10.9"
  }
 },
 "nbformat": 4,
 "nbformat_minor": 5
}
