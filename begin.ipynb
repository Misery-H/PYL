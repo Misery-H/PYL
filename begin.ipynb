{
 "cells": [
  {
   "cell_type": "markdown",
   "id": "0b82ffbd",
   "metadata": {},
   "source": [
    "### 整型"
   ]
  },
  {
   "cell_type": "markdown",
   "id": "469e5a8a",
   "metadata": {},
   "source": [
    "- 整型是指一切整数，可以直接以二进制表示，ex.（1100）b=（12）d\n",
    "- 整型运算没有误差"
   ]
  },
  {
   "cell_type": "code",
   "execution_count": 1,
   "id": "bf0e9d55",
   "metadata": {},
   "outputs": [
    {
     "name": "stdout",
     "output_type": "stream",
     "text": [
      "Python 3.7.16\r\n"
     ]
    }
   ],
   "source": [
    "#定义一个整型\n",
    "a=12\n",
    "a\n",
    "!python -V"
   ]
  },
  {
   "cell_type": "code",
   "execution_count": 5,
   "id": "14f215a1",
   "metadata": {},
   "outputs": [
    {
     "data": {
      "text/plain": [
       "'0b1100'"
      ]
     },
     "execution_count": 5,
     "metadata": {},
     "output_type": "execute_result"
    }
   ],
   "source": [
    "#二进制\n",
    "bin(a)"
   ]
  },
  {
   "cell_type": "code",
   "execution_count": 6,
   "id": "2314f131",
   "metadata": {},
   "outputs": [
    {
     "data": {
      "text/plain": [
       "'0xc'"
      ]
     },
     "execution_count": 6,
     "metadata": {},
     "output_type": "execute_result"
    }
   ],
   "source": [
    "#十六进制\n",
    "hex(a)"
   ]
  },
  {
   "cell_type": "code",
   "execution_count": 7,
   "id": "be7ac340",
   "metadata": {},
   "outputs": [
    {
     "data": {
      "text/plain": [
       "'0o14'"
      ]
     },
     "execution_count": 7,
     "metadata": {},
     "output_type": "execute_result"
    }
   ],
   "source": [
    "#八进制\n",
    "oct(a)"
   ]
  },
  {
   "cell_type": "code",
   "execution_count": 8,
   "id": "fbdae4a9",
   "metadata": {},
   "outputs": [
    {
     "name": "stdout",
     "output_type": "stream",
     "text": [
      "20\n",
      "4\n",
      "1.5\n",
      "1\n",
      "4\n",
      "96\n",
      "429981696\n"
     ]
    }
   ],
   "source": [
    "#基本运算\n",
    "#依次是 加法，减法，除法，整除，取余，乘法，乘方\n",
    "print(12+8)\n",
    "print(12-8)\n",
    "print(12/8)\n",
    "print(12//8)\n",
    "print(12%8)\n",
    "print(12*8)\n",
    "print(12**8)"
   ]
  },
  {
   "cell_type": "code",
   "execution_count": 9,
   "id": "6af19cbc",
   "metadata": {},
   "outputs": [
    {
     "name": "stdout",
     "output_type": "stream",
     "text": [
      "3.4641016151377544\n",
      "0.8438539587324921\n"
     ]
    }
   ],
   "source": [
    "#math库中有更多运算,ex.开方，余弦\n",
    "import math\n",
    "print(math.sqrt(12))\n",
    "print(math.cos(12))"
   ]
  },
  {
   "cell_type": "markdown",
   "id": "94e1bee5",
   "metadata": {},
   "source": [
    "## 浮点数\n",
    "- 浮点数即带有小数点的数，运算会出现误差，这是计算机的物理性质决定的\n",
    "- 典型例子，0.1+0.2不等于0.3"
   ]
  },
  {
   "cell_type": "code",
   "execution_count": 10,
   "id": "a7957283",
   "metadata": {},
   "outputs": [
    {
     "data": {
      "text/plain": [
       "0.30000000000000004"
      ]
     },
     "execution_count": 10,
     "metadata": {},
     "output_type": "execute_result"
    }
   ],
   "source": [
    "0.1+0.2"
   ]
  },
  {
   "cell_type": "markdown",
   "id": "35778ea7",
   "metadata": {},
   "source": [
    "- 因此比较浮点数时，可以用以下方式"
   ]
  },
  {
   "cell_type": "code",
   "execution_count": 20,
   "id": "2787f3e7",
   "metadata": {},
   "outputs": [],
   "source": [
    "def equal(a,b):\n",
    "    if isinstance(a,float) or isinstance(b,float):\n",
    "        if abs(a-b)<1e-5:\n",
    "            return True\n",
    "        return False\n",
    "    return a==b"
   ]
  },
  {
   "cell_type": "markdown",
   "id": "10f23aff",
   "metadata": {},
   "source": [
    "equal函数\n",
    "- 首先确定a，b中有一个是浮点数\n",
    "- 如果a-b的绝对值小于一个非常小的值1e-5，则认为他们相等\n",
    "- 如果ab都不是浮点数则返回a==b"
   ]
  },
  {
   "cell_type": "code",
   "execution_count": 22,
   "id": "6b10e560",
   "metadata": {},
   "outputs": [
    {
     "name": "stdout",
     "output_type": "stream",
     "text": [
      "True\n",
      "True\n",
      "False\n"
     ]
    }
   ],
   "source": [
    "print(equal(0.1+0.2,0.3))\n",
    "print(equal(1+2,3))\n",
    "print(equal(1.2,2.1))"
   ]
  },
  {
   "cell_type": "markdown",
   "id": "a0f58d82",
   "metadata": {},
   "source": [
    "## 字符串\n",
    "- 字符串可以直接用+来拼接\n",
    "- 字符串可以格式化输出"
   ]
  },
  {
   "cell_type": "code",
   "execution_count": 23,
   "id": "4bd88f2d",
   "metadata": {},
   "outputs": [],
   "source": [
    "name=\"张三\"\n",
    "job=\"法外狂徒\""
   ]
  },
  {
   "cell_type": "code",
   "execution_count": 24,
   "id": "842ad33b",
   "metadata": {},
   "outputs": [
    {
     "name": "stdout",
     "output_type": "stream",
     "text": [
      "张三是法外狂徒\n",
      "张三是法外狂徒\n",
      "张三是法外狂徒\n"
     ]
    }
   ],
   "source": [
    "print(name+\"是\"+job)\n",
    "print(f\"{name}是{job}\")\n",
    "print(\"{}是{}\".format(name,job))"
   ]
  },
  {
   "cell_type": "code",
   "execution_count": 25,
   "id": "54e09a2b",
   "metadata": {},
   "outputs": [
    {
     "name": "stdout",
     "output_type": "stream",
     "text": [
      "{name}是{job}\n"
     ]
    }
   ],
   "source": [
    "print(r\"{name}是{job}\")"
   ]
  },
  {
   "cell_type": "code",
   "execution_count": 27,
   "id": "fe569328",
   "metadata": {},
   "outputs": [
    {
     "data": {
      "text/plain": [
       "'三张'"
      ]
     },
     "execution_count": 27,
     "metadata": {},
     "output_type": "execute_result"
    }
   ],
   "source": [
    "name[::-1]"
   ]
  },
  {
   "cell_type": "markdown",
   "id": "525a68d6",
   "metadata": {},
   "source": [
    "## 列表\n",
    "- 列表可以理解为一个向量\n",
    "- 列表中的元素可以为不同类型"
   ]
  },
  {
   "cell_type": "code",
   "execution_count": 28,
   "id": "535b2830",
   "metadata": {},
   "outputs": [],
   "source": [
    "#定义一个列表\n",
    "same=[1,2,3]\n",
    "different=[1,'1',[1]]"
   ]
  },
  {
   "cell_type": "code",
   "execution_count": 29,
   "id": "8adcb157",
   "metadata": {},
   "outputs": [
    {
     "name": "stdout",
     "output_type": "stream",
     "text": [
      "列表same的第1个元素是1\n"
     ]
    }
   ],
   "source": [
    "#取出列表元素\n",
    "idx=1\n",
    "print(f\"列表same的第{idx}个元素是{same[idx-1]}\")"
   ]
  },
  {
   "cell_type": "code",
   "execution_count": 30,
   "id": "3f5042dd",
   "metadata": {},
   "outputs": [
    {
     "data": {
      "text/plain": [
       "[3, 2, 1]"
      ]
     },
     "execution_count": 30,
     "metadata": {},
     "output_type": "execute_result"
    }
   ],
   "source": [
    "same[::-1]"
   ]
  },
  {
   "cell_type": "code",
   "execution_count": 32,
   "id": "9a55e950",
   "metadata": {},
   "outputs": [
    {
     "data": {
      "text/plain": [
       "[0, 1, 4, 9, 16, 25, 36, 49, 64, 81]"
      ]
     },
     "execution_count": 32,
     "metadata": {},
     "output_type": "execute_result"
    }
   ],
   "source": [
    "#另一种定义列表的方法\n",
    "another=[i**2 for i in range(10)]\n",
    "another"
   ]
  },
  {
   "cell_type": "markdown",
   "id": "2114359b",
   "metadata": {},
   "source": [
    "## 字典\n",
    "- 以key:value组织的变量形式\n",
    "- 查询速度快"
   ]
  },
  {
   "cell_type": "code",
   "execution_count": 37,
   "id": "f2fbb0a6",
   "metadata": {},
   "outputs": [],
   "source": [
    "dic={\n",
    "    'name':'张三',\n",
    "    'job':'法外狂徒',\n",
    "    1:2\n",
    "}"
   ]
  },
  {
   "cell_type": "code",
   "execution_count": 38,
   "id": "7f74a8a0",
   "metadata": {},
   "outputs": [
    {
     "data": {
      "text/plain": [
       "dict_keys(['name', 'job', 1])"
      ]
     },
     "execution_count": 38,
     "metadata": {},
     "output_type": "execute_result"
    }
   ],
   "source": [
    "dic.keys()"
   ]
  },
  {
   "cell_type": "code",
   "execution_count": 39,
   "id": "aff31472",
   "metadata": {},
   "outputs": [
    {
     "data": {
      "text/plain": [
       "dict_items([('name', '张三'), ('job', '法外狂徒'), (1, 2)])"
      ]
     },
     "execution_count": 39,
     "metadata": {},
     "output_type": "execute_result"
    }
   ],
   "source": [
    "dic.items()"
   ]
  },
  {
   "cell_type": "code",
   "execution_count": 42,
   "id": "3c240a5e",
   "metadata": {},
   "outputs": [],
   "source": [
    "bigDict={i:str(i) for i in range(100000)}\n",
    "bigList=[i for i in range(100000)]"
   ]
  },
  {
   "cell_type": "code",
   "execution_count": 57,
   "id": "1abd71dd",
   "metadata": {},
   "outputs": [
    {
     "name": "stdout",
     "output_type": "stream",
     "text": [
      "41 ns ± 0.0989 ns per loop (mean ± std. dev. of 7 runs, 10,000,000 loops each)\n"
     ]
    }
   ],
   "source": [
    "%%timeit \n",
    "99999 in bigDict"
   ]
  },
  {
   "cell_type": "code",
   "execution_count": 58,
   "id": "73d945d2",
   "metadata": {},
   "outputs": [
    {
     "name": "stdout",
     "output_type": "stream",
     "text": [
      "517 µs ± 1.48 µs per loop (mean ± std. dev. of 7 runs, 1,000 loops each)\n"
     ]
    }
   ],
   "source": [
    "%%timeit \n",
    "99999 in bigList"
   ]
  },
  {
   "cell_type": "code",
   "execution_count": 56,
   "id": "6bdf958d",
   "metadata": {},
   "outputs": [],
   "source": [
    "#test"
   ]
  }
 ],
 "metadata": {
  "kernelspec": {
   "display_name": "pyLearn",
   "language": "python",
   "name": "pylearn"
  },
  "language_info": {
   "codemirror_mode": {
    "name": "ipython",
    "version": 3
   },
   "file_extension": ".py",
   "mimetype": "text/x-python",
   "name": "python",
   "nbconvert_exporter": "python",
   "pygments_lexer": "ipython3",
   "version": "3.7.16"
  }
 },
 "nbformat": 4,
 "nbformat_minor": 5
}
